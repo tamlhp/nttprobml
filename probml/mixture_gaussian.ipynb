{
 "cells": [
  {
   "cell_type": "markdown",
   "metadata": {},
   "source": [
    "# Mixture of Gaussians\n",
    "Example in 21.6.1 Murphy book or 10.2 Bishop book\n",
    "\n",
    "## Code\n",
    "https://github.com/probml/pmtk3/blob/master/demos/mixGaussVbDemoFaithful.m\n",
    "\n",
    "## Plug-ins\n",
    "EM Algorithm for Gaussian Mixture Model (EM GMM)\n",
    "https://ch.mathworks.com/matlabcentral/fileexchange/26184-em-algorithm-for-gaussian-mixture-model--em-gmm-?focused=6047117&tab=function\n",
    "\n",
    "Netlab\n",
    "http://www.aston.ac.uk/eas/research/groups/ncrg/resources/netlab/downloads/"
   ]
  }
 ],
 "metadata": {
  "kernelspec": {
   "display_name": "Python 2",
   "language": "python",
   "name": "python2"
  },
  "language_info": {
   "codemirror_mode": {
    "name": "ipython",
    "version": 2
   },
   "file_extension": ".py",
   "mimetype": "text/x-python",
   "name": "python",
   "nbconvert_exporter": "python",
   "pygments_lexer": "ipython2",
   "version": "2.7.13"
  }
 },
 "nbformat": 4,
 "nbformat_minor": 2
}
